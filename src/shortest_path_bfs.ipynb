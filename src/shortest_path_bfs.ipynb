{
 "cells": [
  {
   "cell_type": "code",
   "execution_count": 15,
   "id": "21582129",
   "metadata": {},
   "outputs": [],
   "source": [
    "from itertools import permutations "
   ]
  },
  {
   "cell_type": "code",
   "execution_count": 16,
   "id": "80d8d347",
   "metadata": {},
   "outputs": [],
   "source": [
    "class Graph:\n",
    "    def __init__(self):\n",
    "        self.graph = dict()\n",
    "\n",
    "    def addEdge(self, node1, node2, edgeName):\n",
    "        if node1 not in self.graph:\n",
    "            self.graph[node1] = []\n",
    "        if node2 not in self.graph:\n",
    "            self.graph[node2] = []\n",
    "\n",
    "        self.graph[node1].append((node2, str(edgeName)))\n",
    "        \n",
    "\n",
    "    def printGraph(self):\n",
    "        for source, destination in self.graph.items():\n",
    "            print(f\"{source}-->{destination}\")\n",
    "    \n",
    "    \n",
    "    def BFS_shortest_path(self, node1, node2):\n",
    "        path_list = [[node1]]\n",
    "        edge_list = [[]]\n",
    "\n",
    "        final_artists_path = []\n",
    "        final_songs_path = []\n",
    "        paths_counter = 0\n",
    "        \n",
    "        path_index = 0\n",
    "        \n",
    "        # To keep track of previously visited nodes\n",
    "        previous_nodes = {node1}\n",
    "        if node1 == node2:\n",
    "            return path_list[0]\n",
    "            \n",
    "        while path_index < len(path_list):\n",
    "            current_path = path_list[path_index]\n",
    "            current_edges = edge_list[path_index]\n",
    "            last_node = current_path[-1]\n",
    "            next_nodes = self.graph[last_node]\n",
    "            \n",
    "            # Search goal node\n",
    "            for n_node in next_nodes:\n",
    "                if node2 == n_node[0]:\n",
    "                    current_edges.append(n_node[1])\n",
    "                    current_path.append(n_node[0])\n",
    "                    \n",
    "                    final_artists_path.append(current_path)\n",
    "                    final_songs_path.append(current_edges)\n",
    "                    paths_counter += 1\n",
    "\n",
    "                    if paths_counter == 3:\n",
    "                        return final_artists_path, final_songs_path\n",
    "            \n",
    "            # Add new paths\n",
    "            for next_node in next_nodes:\n",
    "                if not next_node in previous_nodes:\n",
    "                    n_node = next_node[0]\n",
    "                    n_edge = next_node[1]\n",
    "\n",
    "                    new_path = current_path[:]\n",
    "                    new_path.append(n_node)\n",
    "\n",
    "                    new_path_edge = current_edges[:]\n",
    "                    new_path_edge.append(n_edge)\n",
    "                    \n",
    "                    path_list.append(new_path)\n",
    "                    edge_list.append(new_path_edge)\n",
    "                    \n",
    "                    # To avoid backtracking\n",
    "                    previous_nodes.add(next_node)\n",
    "            \n",
    "            # Continue to next path in list\n",
    "            path_index += 1\n",
    "        \n",
    "        \n",
    "        if paths_counter > 0:\n",
    "            return final_artists_path, final_songs_path  \n",
    "        else:\n",
    "            return []\n"
   ]
  },
  {
   "cell_type": "code",
   "execution_count": 18,
   "id": "ecea4af7",
   "metadata": {},
   "outputs": [
    {
     "ename": "KeyError",
     "evalue": "'Adele'",
     "output_type": "error",
     "traceback": [
      "\u001b[0;31m---------------------------------------------------------------------------\u001b[0m",
      "\u001b[0;31mKeyError\u001b[0m                                  Traceback (most recent call last)",
      "\u001b[0;32m/tmp/ipykernel_32978/1303564532.py\u001b[0m in \u001b[0;36m<module>\u001b[0;34m\u001b[0m\n\u001b[1;32m     12\u001b[0m         \u001b[0mg\u001b[0m\u001b[0;34m.\u001b[0m\u001b[0maddEdge\u001b[0m\u001b[0;34m(\u001b[0m\u001b[0mnodeCombination\u001b[0m\u001b[0;34m[\u001b[0m\u001b[0;36m0\u001b[0m\u001b[0;34m]\u001b[0m\u001b[0;34m,\u001b[0m \u001b[0mnodeCombination\u001b[0m\u001b[0;34m[\u001b[0m\u001b[0;36m1\u001b[0m\u001b[0;34m]\u001b[0m\u001b[0;34m,\u001b[0m \u001b[0medge\u001b[0m\u001b[0;34m)\u001b[0m\u001b[0;34m\u001b[0m\u001b[0;34m\u001b[0m\u001b[0m\n\u001b[1;32m     13\u001b[0m \u001b[0;34m\u001b[0m\u001b[0m\n\u001b[0;32m---> 14\u001b[0;31m \u001b[0mpath_singers\u001b[0m\u001b[0;34m,\u001b[0m \u001b[0mpath_songs\u001b[0m \u001b[0;34m=\u001b[0m \u001b[0mg\u001b[0m\u001b[0;34m.\u001b[0m\u001b[0mBFS_shortest_path\u001b[0m\u001b[0;34m(\u001b[0m\u001b[0;34m\"Adele\"\u001b[0m\u001b[0;34m,\u001b[0m \u001b[0;34m\"Ivete Sangalo\"\u001b[0m\u001b[0;34m)\u001b[0m\u001b[0;34m\u001b[0m\u001b[0;34m\u001b[0m\u001b[0m\n\u001b[0m\u001b[1;32m     15\u001b[0m \u001b[0;34m\u001b[0m\u001b[0m\n\u001b[1;32m     16\u001b[0m \u001b[0mprint\u001b[0m\u001b[0;34m(\u001b[0m\u001b[0mpath_singers\u001b[0m\u001b[0;34m)\u001b[0m\u001b[0;34m\u001b[0m\u001b[0;34m\u001b[0m\u001b[0m\n",
      "\u001b[0;32m/tmp/ipykernel_32978/3554234334.py\u001b[0m in \u001b[0;36mBFS_shortest_path\u001b[0;34m(self, node1, node2)\u001b[0m\n\u001b[1;32m     36\u001b[0m             \u001b[0mcurrent_edges\u001b[0m \u001b[0;34m=\u001b[0m \u001b[0medge_list\u001b[0m\u001b[0;34m[\u001b[0m\u001b[0mpath_index\u001b[0m\u001b[0;34m]\u001b[0m\u001b[0;34m\u001b[0m\u001b[0;34m\u001b[0m\u001b[0m\n\u001b[1;32m     37\u001b[0m             \u001b[0mlast_node\u001b[0m \u001b[0;34m=\u001b[0m \u001b[0mcurrent_path\u001b[0m\u001b[0;34m[\u001b[0m\u001b[0;34m-\u001b[0m\u001b[0;36m1\u001b[0m\u001b[0;34m]\u001b[0m\u001b[0;34m\u001b[0m\u001b[0;34m\u001b[0m\u001b[0m\n\u001b[0;32m---> 38\u001b[0;31m             \u001b[0mnext_nodes\u001b[0m \u001b[0;34m=\u001b[0m \u001b[0mself\u001b[0m\u001b[0;34m.\u001b[0m\u001b[0mgraph\u001b[0m\u001b[0;34m[\u001b[0m\u001b[0mlast_node\u001b[0m\u001b[0;34m]\u001b[0m\u001b[0;34m\u001b[0m\u001b[0;34m\u001b[0m\u001b[0m\n\u001b[0m\u001b[1;32m     39\u001b[0m \u001b[0;34m\u001b[0m\u001b[0m\n\u001b[1;32m     40\u001b[0m             \u001b[0;31m# Search goal node\u001b[0m\u001b[0;34m\u001b[0m\u001b[0;34m\u001b[0m\u001b[0;34m\u001b[0m\u001b[0m\n",
      "\u001b[0;31mKeyError\u001b[0m: 'Adele'"
     ]
    }
   ],
   "source": [
    "g = Graph()\n",
    "\n",
    "with open(\"grafos.txt\") as f:\n",
    "    lines = f.readlines()\n",
    "\n",
    "for i in range(int(len(lines))):\n",
    "    edge, nodes = lines[i].replace(\"'\", '').replace('\"', '').split('|')\n",
    "    nodesList = nodes.replace('\\n', '').split(',')\n",
    "    perm = permutations(nodesList, 2)\n",
    "\n",
    "    for nodeCombination in list(perm):\n",
    "        g.addEdge(nodeCombination[0], nodeCombination[1], edge)\n",
    "\n",
    "path_singers, path_songs = g.BFS_shortest_path(\"Luan Santana\", \"Ivete Sangalo\")\n",
    "\n",
    "print(path_singers)\n",
    "print(path_songs)"
   ]
  }
 ],
 "metadata": {
  "kernelspec": {
   "display_name": "Python 3.8.10 64-bit",
   "language": "python",
   "name": "python3"
  },
  "language_info": {
   "codemirror_mode": {
    "name": "ipython",
    "version": 3
   },
   "file_extension": ".py",
   "mimetype": "text/x-python",
   "name": "python",
   "nbconvert_exporter": "python",
   "pygments_lexer": "ipython3",
   "version": "3.8.10"
  },
  "vscode": {
   "interpreter": {
    "hash": "916dbcbb3f70747c44a77c7bcd40155683ae19c65e1c03b4aa3499c5328201f1"
   }
  }
 },
 "nbformat": 4,
 "nbformat_minor": 5
}
