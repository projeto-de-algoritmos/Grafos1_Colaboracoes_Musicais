{
 "cells": [
  {
   "cell_type": "markdown",
   "id": "dbd983ea",
   "metadata": {},
   "source": [
    "# Importando depenências"
   ]
  },
  {
   "cell_type": "code",
   "execution_count": 1,
   "id": "47051dd6",
   "metadata": {},
   "outputs": [],
   "source": [
    "import itertools as it\n",
    "import matplotlib.pyplot as plt\n",
    "import networkx as nx"
   ]
  },
  {
   "cell_type": "markdown",
   "id": "807e2da6",
   "metadata": {},
   "source": [
    "# Declaração do grafo"
   ]
  },
  {
   "cell_type": "code",
   "execution_count": 16,
   "id": "80d8d347",
   "metadata": {},
   "outputs": [],
   "source": [
    "class Graph:\n",
    "    def __init__(self):\n",
    "        self.graph = dict()\n",
    "\n",
    "    def addEdge(self, node1, node2, edgeName):\n",
    "        if node1 not in self.graph:\n",
    "            self.graph[node1] = []\n",
    "        if node2 not in self.graph:\n",
    "            self.graph[node2] = []\n",
    "\n",
    "        self.graph[node1].append((node2, str(edgeName)))\n",
    "        \n",
    "\n",
    "    def printGraph(self):\n",
    "        for source, destination in self.graph.items():\n",
    "            print(f\"{source}-->{destination}\")\n",
    "    \n",
    "    \n",
    "    def BFS_shortest_path(self, node1, node2):\n",
    "        path_list = [[node1]]\n",
    "        edge_list = [[]]\n",
    "\n",
    "        final_artists_path = []\n",
    "        final_songs_path = []\n",
    "        paths_counter = 0\n",
    "        \n",
    "        path_index = 0\n",
    "        \n",
    "        # To keep track of previously visited nodes\n",
    "        previous_nodes = {node1}\n",
    "        if node1 == node2:\n",
    "            return path_list[0]\n",
    "            \n",
    "        while path_index < len(path_list):\n",
    "            current_path = path_list[path_index]\n",
    "            current_edges = edge_list[path_index]\n",
    "            last_node = current_path[-1]\n",
    "            next_nodes = self.graph[last_node]\n",
    "            \n",
    "            # Search goal node\n",
    "            for n_node in next_nodes:\n",
    "                if node2 == n_node[0]:\n",
    "                    current_edges.append(n_node[1])\n",
    "                    current_path.append(n_node[0])\n",
    "                    \n",
    "                    final_artists_path.append(current_path)\n",
    "                    final_songs_path.append(current_edges)\n",
    "                    paths_counter += 1\n",
    "\n",
    "                    if paths_counter == 3:\n",
    "                        return final_artists_path, final_songs_path\n",
    "            \n",
    "            # Add new paths\n",
    "            for next_node in next_nodes:\n",
    "                if not next_node in previous_nodes:\n",
    "                    n_node = next_node[0]\n",
    "                    n_edge = next_node[1]\n",
    "\n",
    "                    new_path = current_path[:]\n",
    "                    new_path.append(n_node)\n",
    "\n",
    "                    new_path_edge = current_edges[:]\n",
    "                    new_path_edge.append(n_edge)\n",
    "                    \n",
    "                    path_list.append(new_path)\n",
    "                    edge_list.append(new_path_edge)\n",
    "                    \n",
    "                    # To avoid backtracking\n",
    "                    previous_nodes.add(next_node)\n",
    "            \n",
    "            # Continue to next path in list\n",
    "            path_index += 1\n",
    "        \n",
    "        \n",
    "        if paths_counter > 0:\n",
    "            return final_artists_path, final_songs_path  \n",
    "        else:\n",
    "            return []\n"
   ]
  },
  {
   "cell_type": "markdown",
   "id": "60e5d775",
   "metadata": {},
   "source": [
    "# Carregando arquivo"
   ]
  },
  {
   "cell_type": "code",
   "execution_count": 18,
   "id": "ecea4af7",
   "metadata": {},
   "outputs": [],
   "source": [
    "g = Graph()\n",
    "\n",
    "with open(\"grafos.txt\", encoding=\"utf8\") as f:\n",
    "    lines = f.readlines()"
   ]
  },
  {
   "cell_type": "markdown",
   "id": "70555d87",
   "metadata": {},
   "source": [
    "# Adicionando artistas e músicas ao grafo"
   ]
  },
  {
   "cell_type": "code",
   "execution_count": 4,
   "id": "8214dd69",
   "metadata": {},
   "outputs": [],
   "source": [
    "for i in range(int(len(lines))):\n",
    "    edge, nodes = lines[i].replace(\"'\", '').replace('\"', '').split('|')\n",
    "    nodesList = nodes.replace('\\n', '').split(',')\n",
    "    perm = it.permutations(nodesList, 2)\n",
    "\n",
    "    for nodeCombination in list(perm):\n",
    "        g.addEdge(nodeCombination[0], nodeCombination[1], edge)"
   ]
  },
  {
   "cell_type": "markdown",
   "id": "f807bb14",
   "metadata": {},
   "source": [
    "# Encontrando menor caminho entre artistas"
   ]
  },
  {
   "cell_type": "code",
   "execution_count": 5,
   "id": "510ca49e",
   "metadata": {},
   "outputs": [
    {
     "name": "stdout",
     "output_type": "stream",
     "text": [
      "['Anitta', 'Pabllo Vittar', 'Ivete Sangalo']\n",
      "['Sua Cara', 'Lovezinho (feat. Ivete Sangalo)']\n"
     ]
    }
   ],
   "source": [
    "path_singers, path_songs = g.BFS_shortest_path(\"Anitta\", \"Ivete Sangalo\")\n",
    "\n",
    "print(path_singers)\n",
    "print(path_songs)"
   ]
  },
  {
   "cell_type": "markdown",
   "id": "1b7d5e80",
   "metadata": {},
   "source": [
    "# Configurando grafo para representação"
   ]
  },
  {
   "cell_type": "code",
   "execution_count": 6,
   "id": "9b08a076",
   "metadata": {},
   "outputs": [],
   "source": [
    "G = nx.Graph()\n",
    "singers_it = iter(path_singers)\n",
    "for i in singers_it:\n",
    "    for j in path_songs:\n",
    "        try:\n",
    "            G.add_edge(i, singers_it.__next__(), song=j)\n",
    "        except StopIteration as e:\n",
    "            break"
   ]
  },
  {
   "cell_type": "markdown",
   "id": "91255197",
   "metadata": {},
   "source": [
    "# Plot"
   ]
  },
  {
   "cell_type": "code",
   "execution_count": 7,
   "id": "6f67143f",
   "metadata": {},
   "outputs": [
    {
     "data": {
      "image/png": "[encoded data removed]",
      "text/plain": [
       "<Figure size 640x480 with 1 Axes>"
      ]
     },
     "metadata": {},
     "output_type": "display_data"
    }
   ],
   "source": [
    "songs = nx.get_edge_attributes(G,'song')\n",
    "pos = nx.spring_layout(G)\n",
    "nx.draw_networkx(G, pos)\n",
    "nx.draw_networkx_edge_labels(G, pos, edge_labels = songs)\n",
    "plt.show()"
   ]
  },
  {
   "cell_type": "code",
   "execution_count": null,
   "id": "8214e59e",
   "metadata": {},
   "outputs": [],
   "source": []
  }
 ],
 "metadata": {
  "kernelspec": {
   "display_name": "Python 3 (ipykernel)",
   "language": "python",
   "name": "python3"
  },
  "language_info": {
   "codemirror_mode": {
    "name": "ipython",
    "version": 3
   },
   "file_extension": ".py",
   "mimetype": "text/x-python",
   "name": "python",
   "nbconvert_exporter": "python",
   "pygments_lexer": "ipython3",
   "version": "3.10.5"
  },
  "vscode": {
   "interpreter": {
    "hash": "916dbcbb3f70747c44a77c7bcd40155683ae19c65e1c03b4aa3499c5328201f1"
   }
  }
 },
 "nbformat": 4,
 "nbformat_minor": 5
}
